{
  "nbformat": 4,
  "nbformat_minor": 0,
  "metadata": {
    "colab": {
      "provenance": [],
      "history_visible": true
    },
    "kernelspec": {
      "name": "python3",
      "display_name": "Python 3"
    },
    "language_info": {
      "name": "python"
    }
  },
  "cells": [
    {
      "cell_type": "markdown",
      "source": [
        "# BINF 200 - Biological structures - 1\n",
        "\n",
        "In this assignment, we will query and navigate biological knowledgebases programatically and manually. Please read the text carefully and execute the code chinks in sequential order.\n",
        "\n",
        "The chunks in this notebook present the following icons, indicating what is expected of you:\n",
        "- ❓: Please edit the text to fill in your answer.\n",
        "- ▶: Check what the code is doing and run\n",
        "- 💻: Please edit the code according to the instructions and run the chunk.\n"
      ],
      "metadata": {
        "id": "GdOTTzL6ecCL"
      }
    },
    {
      "cell_type": "markdown",
      "source": [
        "### ❓ Your name in amino acids\n",
        "\n",
        "Edit the table below so that the first column contains the letter of your first and last name.\n",
        "\n",
        "| Letter | Amino acid? | Name | Polarity | Net charge at pH 7.4 |\n",
        "| - | - | - | - | - |\n",
        "| M | Yes | Methionine | Nonpolar | Neutral |\n"
      ],
      "metadata": {
        "id": "1JbX4QK4nxsy"
      }
    },
    {
      "cell_type": "markdown",
      "source": [
        "### ▶ Download human proteins from UniProt\n",
        "\n",
        "The code below downloads identifiers of reviewed human proteins from UniProt stored in the repository of the course."
      ],
      "metadata": {
        "id": "hdi9nzWHpFom"
      }
    },
    {
      "cell_type": "code",
      "source": [
        "import requests\n",
        "from io import BytesIO\n",
        "import gzip\n",
        "import pandas as pd\n",
        "\n",
        "response = requests.get(\"https://github.com/mvaudel/BINF200-bio-sequences-structures/raw/main/assignments/assignment_3/resources/uniprotkb_reviewed_true_AND_model_organ_2023_10_28.tsv.gz\")\n",
        "\n",
        "# When getting something from a URL, the response code 200 indicates a success\n",
        "if response.status_code == 200:\n",
        "\n",
        "  # Get the content of the response\n",
        "  content = response.content\n",
        "\n",
        "  # Create a BytesIO object to work with the gzipped content\n",
        "  with BytesIO(content) as bio:\n",
        "\n",
        "    # Use gzip to decompress the content\n",
        "    with gzip.open(bio, 'rb') as f:\n",
        "\n",
        "      # Use pandas to read the table (adjust the options as needed)\n",
        "      proteins_df = pd.read_csv(f, delimiter='\\t', header = 0)\n",
        "\n",
        "# If we did not get an http code 200, check the meaning of the code to troubleshoot the issue\n",
        "else:\n",
        "    print(f\"Failed to download the file. Http error code: {response.status_code}.\")\n"
      ],
      "metadata": {
        "id": "mwxKDEHrqifz"
      },
      "execution_count": 1,
      "outputs": []
    },
    {
      "cell_type": "markdown",
      "source": [
        "### 💻 Select a protein\n",
        "\n",
        "Edit the code below to replace `YOUR_NAME` with your actual name and run the chunk to sample a protein.\n",
        "\n",
        "💡 In the unlikely event that you get the same protein as me or one of your friends, change the string `my_name` again to get a new protein, e.g. using your cat's name."
      ],
      "metadata": {
        "id": "fiVc3WQ0fzTR"
      }
    },
    {
      "cell_type": "code",
      "source": [
        "# Your name\n",
        "my_name = \"YOUR_NAME\"\n",
        "\n",
        "# Sample protein\n",
        "index = hash(my_name)\n",
        "\n",
        "if index < 0:\n",
        "    index += 2**32\n",
        "\n",
        "index = index % len(proteins_df)\n",
        "\n",
        "print(f\"Congratulations! Your protein accession is: {proteins_df['Entry'][index]}\")\n"
      ],
      "metadata": {
        "colab": {
          "base_uri": "https://localhost:8080/"
        },
        "id": "qWvN_8uMhYvs",
        "outputId": "4e331197-4781-417d-f346-a4b139d45f40"
      },
      "execution_count": 2,
      "outputs": [
        {
          "output_type": "stream",
          "name": "stdout",
          "text": [
            "Congratulations! Your protein accession is: Q14117\n"
          ]
        }
      ]
    },
    {
      "cell_type": "markdown",
      "source": [
        "🕵 Instructions\n",
        "\n",
        "In the following, follow the different questions and fill the answers using your protein. Examples with my protein are provided for guidance.\n",
        "\n",
        "### ❓ Protein information\n",
        "\n",
        "Find you protein in UniProt using a web browser. Edit the table below with information on your protein.\n",
        "\n",
        "| Attribute | Value |\n",
        "| - | - |\n",
        "| Protein Accession | Q9NSA1 |\n",
        "| Gene name | FGF21 |\n",
        "| Protein name | Fibroblast growth factor 21 |\n",
        "\n",
        "### ❓ Protein function\n",
        "\n",
        "What is the function of your protein according to UniProt?\n",
        "\n",
        "> Stimulates glucose uptake in differentiated adipocytes via the induction of glucose transporter SLC2A1/GLUT1 expression (but not SLC2A4/GLUT4 expression). Activity requires the presence of KLB. Regulates systemic glucose homeostasis and insulin sensitivity.\n",
        "\n",
        "### ❓ Protein sequence\n",
        "\n",
        "What is the sequence of your protein according to UniProt?\n",
        "\n",
        "> MDSDETGFEHSGLWVSVLAGLLLGACQAHPIPDSSPLLQFGGQVRQRYLYTDDAQQTEAHLEIREDGTVGGAADQSPESLLQLKALKPGVIQILGVKTSRFLCQRPDGALYGSLHFDPEACSFRELLLEDGYNVYQSEAHGLPLHLPGNKSPHRDPAPRGPARFLPLPGLPPALPEPPGILAPQPPDVGSSDPLSMVGPSQGRSPSYAS\n",
        "\n",
        "### ❓ Protein structure\n",
        "\n",
        "How were the structures in UniProt determined?\n",
        "\n",
        "> X-ray, NMR, and predicted using AlphaFold\n",
        "\n",
        "What parts of the sequence do these cover?\n",
        "\n",
        "> X-ray 186-209, NMR 42-169, NMR 42-164, AlphaFold 1-209.\n",
        "\n",
        "What features does the structure present?\n",
        "\n",
        "> Helix, beta strands, and turns\n",
        "\n",
        "### ❓ Genetic sequence\n",
        "\n",
        "Look up the gene name in Ensembl. How many transcripts are encoded by this gene according to Ensembl?\n",
        "\n",
        "> 2\n",
        "\n",
        "Under `Transcript ID` in the transcript table, select a transcript encoding your UniProt Match. If multiple transcripts match, select the first one.\n",
        "\n",
        "Select `Exons` in the menu to the left. How many introns and exons are in this gene?\n",
        "\n",
        "> 4 exons, 3 introns\n",
        "\n",
        "Select `cDNA`, what is the genetic code corresponding to the ten first amino acids of your protein sequence?\n",
        "\n",
        "> ATGGACTCGGACGAGACCGGGTTCGAGCAC\n",
        "\n",
        "Select `Protein`, how many exons make up the final sequence?\n",
        "\n",
        "> 3\n",
        "\n",
        "Is there an amino acid overlapping with a splice site? If yes, between which exons?\n",
        "\n",
        "> S between exon 1 and 2\n",
        "\n",
        "### ❓ Genetic variation\n",
        "\n",
        "Now select `Variants` in the menu to the left, in the variants table, is there a missense variant? If yes, what residues are changed?\n",
        "\n",
        "> rs762567273, D, V\n",
        "\n",
        "Are there in the table both tolerated and deleterious variants according to SIFT? What is their respective frequencies?\n",
        "\n",
        "> rs574758901, tolerated, maf < 0.01\n",
        "> rs1432613460, deleterious, maf < 1e-6\n",
        "\n",
        "Query your gene in ClinVar. How many variants are listed in the different levels of clinical significance?\n",
        "\n",
        "| Clinical significance | N |\n",
        "| - | - |\n",
        "| Conflicting interpretations | 0 |\n",
        "| Benign | 3 |\n",
        "| Likely benign | 2 |\n",
        "| Uncertain significance | 20 |\n",
        "| Likely pathogenic | 1 |\n",
        "| Pathogenic | 9 |\n",
        "\n",
        "If pathoegnic variants were found, can you find an example of condition?\n",
        "\n",
        "> Developmental and intellectual disability\n",
        "\n",
        "### ❓ PDB entries\n",
        "\n",
        "Query the UniProt identifier of your protein. How many structures are available? How were they determined?\n",
        "\n",
        "> 3 structures: 2 NMR, 1 X-ray\n",
        "\n",
        "Select the largest structure. Select `Structure` under Èxplore in 3D. Using the JSmol viewer, build a 3D representation using the space fill style with the secondary structure indicated in color and attach it to your assignment.\n",
        "\n",
        "\n",
        "\n",
        "\n",
        "\n",
        "\n"
      ],
      "metadata": {
        "id": "4f-Ll9K65JBB"
      }
    }
  ]
}